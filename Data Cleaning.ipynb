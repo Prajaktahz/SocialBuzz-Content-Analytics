{
 "cells": [
  {
   "cell_type": "markdown",
   "id": "361a5da8-a2f2-407f-90ba-1a909194dd2d",
   "metadata": {},
   "source": [
    "## Content Analysis and identifying categories with the largest popularity"
   ]
  },
  {
   "cell_type": "code",
   "execution_count": 731,
   "id": "092cf45b-19c8-47f1-a7d1-148a2f9e156f",
   "metadata": {},
   "outputs": [],
   "source": [
    "import pandas as pd\n",
    "import numpy as np\n",
    "import matplotlib.pyplot as plt\n",
    "import seaborn as sns"
   ]
  },
  {
   "cell_type": "markdown",
   "id": "e8c722f6-cce2-4da0-b5f3-0e2830006098",
   "metadata": {},
   "source": [
    "**There are total 3 datasets relevant to the analysis.**"
   ]
  },
  {
   "cell_type": "markdown",
   "id": "bec627ad-5adf-42a9-b759-6eaa77f518b3",
   "metadata": {},
   "source": [
    "#### 1. Content"
   ]
  },
  {
   "cell_type": "code",
   "execution_count": 732,
   "id": "2a320949-26c8-4023-b8cb-e77eb58743dd",
   "metadata": {},
   "outputs": [
    {
     "data": {
      "text/html": [
       "<div>\n",
       "<style scoped>\n",
       "    .dataframe tbody tr th:only-of-type {\n",
       "        vertical-align: middle;\n",
       "    }\n",
       "\n",
       "    .dataframe tbody tr th {\n",
       "        vertical-align: top;\n",
       "    }\n",
       "\n",
       "    .dataframe thead th {\n",
       "        text-align: right;\n",
       "    }\n",
       "</style>\n",
       "<table border=\"1\" class=\"dataframe\">\n",
       "  <thead>\n",
       "    <tr style=\"text-align: right;\">\n",
       "      <th></th>\n",
       "      <th>Unnamed: 0</th>\n",
       "      <th>Content ID</th>\n",
       "      <th>User ID</th>\n",
       "      <th>Type</th>\n",
       "      <th>Category</th>\n",
       "      <th>URL</th>\n",
       "    </tr>\n",
       "  </thead>\n",
       "  <tbody>\n",
       "    <tr>\n",
       "      <th>0</th>\n",
       "      <td>0</td>\n",
       "      <td>97522e57-d9ab-4bd6-97bf-c24d952602d2</td>\n",
       "      <td>8d3cd87d-8a31-4935-9a4f-b319bfe05f31</td>\n",
       "      <td>photo</td>\n",
       "      <td>Studying</td>\n",
       "      <td>https://socialbuzz.cdn.com/content/storage/975...</td>\n",
       "    </tr>\n",
       "    <tr>\n",
       "      <th>1</th>\n",
       "      <td>1</td>\n",
       "      <td>9f737e0a-3cdd-4d29-9d24-753f4e3be810</td>\n",
       "      <td>beb1f34e-7870-46d6-9fc7-2e12eb83ce43</td>\n",
       "      <td>photo</td>\n",
       "      <td>healthy eating</td>\n",
       "      <td>https://socialbuzz.cdn.com/content/storage/9f7...</td>\n",
       "    </tr>\n",
       "    <tr>\n",
       "      <th>2</th>\n",
       "      <td>2</td>\n",
       "      <td>230c4e4d-70c3-461d-b42c-ec09396efb3f</td>\n",
       "      <td>a5c65404-5894-4b87-82f2-d787cbee86b4</td>\n",
       "      <td>photo</td>\n",
       "      <td>healthy eating</td>\n",
       "      <td>https://socialbuzz.cdn.com/content/storage/230...</td>\n",
       "    </tr>\n",
       "    <tr>\n",
       "      <th>3</th>\n",
       "      <td>3</td>\n",
       "      <td>356fff80-da4d-4785-9f43-bc1261031dc6</td>\n",
       "      <td>9fb4ce88-fac1-406c-8544-1a899cee7aaf</td>\n",
       "      <td>photo</td>\n",
       "      <td>technology</td>\n",
       "      <td>https://socialbuzz.cdn.com/content/storage/356...</td>\n",
       "    </tr>\n",
       "    <tr>\n",
       "      <th>4</th>\n",
       "      <td>4</td>\n",
       "      <td>01ab84dd-6364-4236-abbb-3f237db77180</td>\n",
       "      <td>e206e31b-5f85-4964-b6ea-d7ee5324def1</td>\n",
       "      <td>video</td>\n",
       "      <td>food</td>\n",
       "      <td>https://socialbuzz.cdn.com/content/storage/01a...</td>\n",
       "    </tr>\n",
       "  </tbody>\n",
       "</table>\n",
       "</div>"
      ],
      "text/plain": [
       "   Unnamed: 0                            Content ID  \\\n",
       "0           0  97522e57-d9ab-4bd6-97bf-c24d952602d2   \n",
       "1           1  9f737e0a-3cdd-4d29-9d24-753f4e3be810   \n",
       "2           2  230c4e4d-70c3-461d-b42c-ec09396efb3f   \n",
       "3           3  356fff80-da4d-4785-9f43-bc1261031dc6   \n",
       "4           4  01ab84dd-6364-4236-abbb-3f237db77180   \n",
       "\n",
       "                                User ID   Type        Category  \\\n",
       "0  8d3cd87d-8a31-4935-9a4f-b319bfe05f31  photo        Studying   \n",
       "1  beb1f34e-7870-46d6-9fc7-2e12eb83ce43  photo  healthy eating   \n",
       "2  a5c65404-5894-4b87-82f2-d787cbee86b4  photo  healthy eating   \n",
       "3  9fb4ce88-fac1-406c-8544-1a899cee7aaf  photo      technology   \n",
       "4  e206e31b-5f85-4964-b6ea-d7ee5324def1  video            food   \n",
       "\n",
       "                                                 URL  \n",
       "0  https://socialbuzz.cdn.com/content/storage/975...  \n",
       "1  https://socialbuzz.cdn.com/content/storage/9f7...  \n",
       "2  https://socialbuzz.cdn.com/content/storage/230...  \n",
       "3  https://socialbuzz.cdn.com/content/storage/356...  \n",
       "4  https://socialbuzz.cdn.com/content/storage/01a...  "
      ]
     },
     "execution_count": 732,
     "metadata": {},
     "output_type": "execute_result"
    }
   ],
   "source": [
    "df_content = pd.read_csv(\"Content.csv\")\n",
    "df_content.head()"
   ]
  },
  {
   "cell_type": "code",
   "execution_count": 733,
   "id": "c7cb4f0e-3516-435f-9b86-8c5893b3d022",
   "metadata": {},
   "outputs": [],
   "source": [
    "df_content.drop(columns = ['Unnamed: 0'], inplace = True)"
   ]
  },
  {
   "cell_type": "code",
   "execution_count": 734,
   "id": "981b67c4-cdd6-4e84-b7c2-744dff65ab9b",
   "metadata": {},
   "outputs": [
    {
     "data": {
      "text/html": [
       "<div>\n",
       "<style scoped>\n",
       "    .dataframe tbody tr th:only-of-type {\n",
       "        vertical-align: middle;\n",
       "    }\n",
       "\n",
       "    .dataframe tbody tr th {\n",
       "        vertical-align: top;\n",
       "    }\n",
       "\n",
       "    .dataframe thead th {\n",
       "        text-align: right;\n",
       "    }\n",
       "</style>\n",
       "<table border=\"1\" class=\"dataframe\">\n",
       "  <thead>\n",
       "    <tr style=\"text-align: right;\">\n",
       "      <th></th>\n",
       "      <th>Content ID</th>\n",
       "      <th>User ID</th>\n",
       "      <th>Type</th>\n",
       "      <th>Category</th>\n",
       "      <th>URL</th>\n",
       "    </tr>\n",
       "  </thead>\n",
       "  <tbody>\n",
       "    <tr>\n",
       "      <th>0</th>\n",
       "      <td>97522e57-d9ab-4bd6-97bf-c24d952602d2</td>\n",
       "      <td>8d3cd87d-8a31-4935-9a4f-b319bfe05f31</td>\n",
       "      <td>photo</td>\n",
       "      <td>Studying</td>\n",
       "      <td>https://socialbuzz.cdn.com/content/storage/975...</td>\n",
       "    </tr>\n",
       "    <tr>\n",
       "      <th>1</th>\n",
       "      <td>9f737e0a-3cdd-4d29-9d24-753f4e3be810</td>\n",
       "      <td>beb1f34e-7870-46d6-9fc7-2e12eb83ce43</td>\n",
       "      <td>photo</td>\n",
       "      <td>healthy eating</td>\n",
       "      <td>https://socialbuzz.cdn.com/content/storage/9f7...</td>\n",
       "    </tr>\n",
       "  </tbody>\n",
       "</table>\n",
       "</div>"
      ],
      "text/plain": [
       "                             Content ID                               User ID  \\\n",
       "0  97522e57-d9ab-4bd6-97bf-c24d952602d2  8d3cd87d-8a31-4935-9a4f-b319bfe05f31   \n",
       "1  9f737e0a-3cdd-4d29-9d24-753f4e3be810  beb1f34e-7870-46d6-9fc7-2e12eb83ce43   \n",
       "\n",
       "    Type        Category                                                URL  \n",
       "0  photo        Studying  https://socialbuzz.cdn.com/content/storage/975...  \n",
       "1  photo  healthy eating  https://socialbuzz.cdn.com/content/storage/9f7...  "
      ]
     },
     "execution_count": 734,
     "metadata": {},
     "output_type": "execute_result"
    }
   ],
   "source": [
    "df_content.head(2)"
   ]
  },
  {
   "cell_type": "code",
   "execution_count": 735,
   "id": "4da87fde-6303-4f61-851b-72783f53caa3",
   "metadata": {},
   "outputs": [
    {
     "data": {
      "text/plain": [
       "(1000, 5)"
      ]
     },
     "execution_count": 735,
     "metadata": {},
     "output_type": "execute_result"
    }
   ],
   "source": [
    "df_content.shape"
   ]
  },
  {
   "cell_type": "code",
   "execution_count": 736,
   "id": "08b9a4e6-f2db-44ec-bf44-f8992a566870",
   "metadata": {},
   "outputs": [
    {
     "data": {
      "text/plain": [
       "Index(['Content ID', 'User ID', 'Type', 'Category', 'URL'], dtype='object')"
      ]
     },
     "execution_count": 736,
     "metadata": {},
     "output_type": "execute_result"
    }
   ],
   "source": [
    "df_content.columns"
   ]
  },
  {
   "cell_type": "code",
   "execution_count": 737,
   "id": "9bd602c5-acea-4f92-b67f-36c05b2fe3e4",
   "metadata": {},
   "outputs": [
    {
     "data": {
      "text/plain": [
       "Content ID      0\n",
       "User ID         0\n",
       "Type            0\n",
       "Category        0\n",
       "URL           199\n",
       "dtype: int64"
      ]
     },
     "execution_count": 737,
     "metadata": {},
     "output_type": "execute_result"
    }
   ],
   "source": [
    "df_content.isna().sum()"
   ]
  },
  {
   "cell_type": "markdown",
   "id": "a82c29bb-f74c-45b1-8755-678625aad000",
   "metadata": {},
   "source": [
    "There are 199 null values in the URL column, as per the requirement, the client wants to drop all the rows containing null values, thus, dropping them."
   ]
  },
  {
   "cell_type": "code",
   "execution_count": 738,
   "id": "7063d2d0-37fe-4609-b1bd-07d1e1633c82",
   "metadata": {},
   "outputs": [],
   "source": [
    "df_content.dropna(inplace=True)"
   ]
  },
  {
   "cell_type": "code",
   "execution_count": 739,
   "id": "d323cc9a-6322-48e9-81c3-b92e570d1fe5",
   "metadata": {},
   "outputs": [
    {
     "data": {
      "text/plain": [
       "Content ID    0\n",
       "User ID       0\n",
       "Type          0\n",
       "Category      0\n",
       "URL           0\n",
       "dtype: int64"
      ]
     },
     "execution_count": 739,
     "metadata": {},
     "output_type": "execute_result"
    }
   ],
   "source": [
    "df_content.isna().sum()"
   ]
  },
  {
   "cell_type": "markdown",
   "id": "8fa9fc55-cadb-4f5c-9294-b6230f3a92b0",
   "metadata": {},
   "source": [
    "So, now no null values present in the data."
   ]
  },
  {
   "cell_type": "code",
   "execution_count": 740,
   "id": "7b61347a-aee0-4f6d-8200-e6e79ba010d9",
   "metadata": {},
   "outputs": [
    {
     "data": {
      "text/plain": [
       "Category\n",
       "travel             60\n",
       "science            55\n",
       "fitness            54\n",
       "animals            54\n",
       "culture            54\n",
       "technology         54\n",
       "tennis             53\n",
       "cooking            51\n",
       "healthy eating     50\n",
       "dogs               49\n",
       "education          48\n",
       "soccer             47\n",
       "food               47\n",
       "veganism           43\n",
       "studying           41\n",
       "public speaking    40\n",
       "Studying            1\n",
       "Name: count, dtype: int64"
      ]
     },
     "execution_count": 740,
     "metadata": {},
     "output_type": "execute_result"
    }
   ],
   "source": [
    "df_content.Category.value_counts()"
   ]
  },
  {
   "cell_type": "code",
   "execution_count": 741,
   "id": "3856bafb-5e5c-4482-9910-1806ebda1e2c",
   "metadata": {},
   "outputs": [
    {
     "data": {
      "text/plain": [
       "Category\n",
       "travel             60\n",
       "science            55\n",
       "technology         54\n",
       "animals            54\n",
       "fitness            54\n",
       "culture            54\n",
       "tennis             53\n",
       "cooking            51\n",
       "healthy eating     50\n",
       "dogs               49\n",
       "education          48\n",
       "food               47\n",
       "soccer             47\n",
       "veganism           43\n",
       "studying           42\n",
       "public speaking    40\n",
       "Name: count, dtype: int64"
      ]
     },
     "execution_count": 741,
     "metadata": {},
     "output_type": "execute_result"
    }
   ],
   "source": [
    "df_content['Category'] = df_content['Category'].replace('Studying', 'studying')\n",
    "df_content.Category.value_counts()"
   ]
  },
  {
   "cell_type": "code",
   "execution_count": 742,
   "id": "080e73c8-db95-4edb-afb1-fc95dd641e48",
   "metadata": {},
   "outputs": [
    {
     "data": {
      "text/html": [
       "<div>\n",
       "<style scoped>\n",
       "    .dataframe tbody tr th:only-of-type {\n",
       "        vertical-align: middle;\n",
       "    }\n",
       "\n",
       "    .dataframe tbody tr th {\n",
       "        vertical-align: top;\n",
       "    }\n",
       "\n",
       "    .dataframe thead th {\n",
       "        text-align: right;\n",
       "    }\n",
       "</style>\n",
       "<table border=\"1\" class=\"dataframe\">\n",
       "  <thead>\n",
       "    <tr style=\"text-align: right;\">\n",
       "      <th></th>\n",
       "      <th>Content ID</th>\n",
       "      <th>User ID</th>\n",
       "      <th>Content Type</th>\n",
       "      <th>Category</th>\n",
       "      <th>URL</th>\n",
       "    </tr>\n",
       "  </thead>\n",
       "  <tbody>\n",
       "    <tr>\n",
       "      <th>0</th>\n",
       "      <td>97522e57-d9ab-4bd6-97bf-c24d952602d2</td>\n",
       "      <td>8d3cd87d-8a31-4935-9a4f-b319bfe05f31</td>\n",
       "      <td>photo</td>\n",
       "      <td>studying</td>\n",
       "      <td>https://socialbuzz.cdn.com/content/storage/975...</td>\n",
       "    </tr>\n",
       "    <tr>\n",
       "      <th>1</th>\n",
       "      <td>9f737e0a-3cdd-4d29-9d24-753f4e3be810</td>\n",
       "      <td>beb1f34e-7870-46d6-9fc7-2e12eb83ce43</td>\n",
       "      <td>photo</td>\n",
       "      <td>healthy eating</td>\n",
       "      <td>https://socialbuzz.cdn.com/content/storage/9f7...</td>\n",
       "    </tr>\n",
       "  </tbody>\n",
       "</table>\n",
       "</div>"
      ],
      "text/plain": [
       "                             Content ID                               User ID  \\\n",
       "0  97522e57-d9ab-4bd6-97bf-c24d952602d2  8d3cd87d-8a31-4935-9a4f-b319bfe05f31   \n",
       "1  9f737e0a-3cdd-4d29-9d24-753f4e3be810  beb1f34e-7870-46d6-9fc7-2e12eb83ce43   \n",
       "\n",
       "  Content Type        Category  \\\n",
       "0        photo        studying   \n",
       "1        photo  healthy eating   \n",
       "\n",
       "                                                 URL  \n",
       "0  https://socialbuzz.cdn.com/content/storage/975...  \n",
       "1  https://socialbuzz.cdn.com/content/storage/9f7...  "
      ]
     },
     "execution_count": 742,
     "metadata": {},
     "output_type": "execute_result"
    }
   ],
   "source": [
    "df_content.rename(columns = {'Type': 'Content Type'}, inplace=True)\n",
    "df_content.head(2)"
   ]
  },
  {
   "cell_type": "code",
   "execution_count": 743,
   "id": "2b73aac4-87e8-4e76-b139-12ec011dd8f9",
   "metadata": {},
   "outputs": [
    {
     "data": {
      "text/plain": [
       "Content ID      object\n",
       "User ID         object\n",
       "Content Type    object\n",
       "Category        object\n",
       "URL             object\n",
       "dtype: object"
      ]
     },
     "execution_count": 743,
     "metadata": {},
     "output_type": "execute_result"
    }
   ],
   "source": [
    "df_content.dtypes"
   ]
  },
  {
   "cell_type": "markdown",
   "id": "27ed6bc3-effa-49b0-9e55-9cccf9cd3bd9",
   "metadata": {},
   "source": [
    "#### 2. Reactions"
   ]
  },
  {
   "cell_type": "code",
   "execution_count": 744,
   "id": "0268f58f-4e21-438f-8ca5-90003e85c477",
   "metadata": {},
   "outputs": [
    {
     "data": {
      "text/html": [
       "<div>\n",
       "<style scoped>\n",
       "    .dataframe tbody tr th:only-of-type {\n",
       "        vertical-align: middle;\n",
       "    }\n",
       "\n",
       "    .dataframe tbody tr th {\n",
       "        vertical-align: top;\n",
       "    }\n",
       "\n",
       "    .dataframe thead th {\n",
       "        text-align: right;\n",
       "    }\n",
       "</style>\n",
       "<table border=\"1\" class=\"dataframe\">\n",
       "  <thead>\n",
       "    <tr style=\"text-align: right;\">\n",
       "      <th></th>\n",
       "      <th>Unnamed: 0</th>\n",
       "      <th>Content ID</th>\n",
       "      <th>User ID</th>\n",
       "      <th>Type</th>\n",
       "      <th>Datetime</th>\n",
       "    </tr>\n",
       "  </thead>\n",
       "  <tbody>\n",
       "    <tr>\n",
       "      <th>0</th>\n",
       "      <td>0</td>\n",
       "      <td>97522e57-d9ab-4bd6-97bf-c24d952602d2</td>\n",
       "      <td>NaN</td>\n",
       "      <td>NaN</td>\n",
       "      <td>2021-04-22 15:17:15</td>\n",
       "    </tr>\n",
       "    <tr>\n",
       "      <th>1</th>\n",
       "      <td>1</td>\n",
       "      <td>97522e57-d9ab-4bd6-97bf-c24d952602d2</td>\n",
       "      <td>5d454588-283d-459d-915d-c48a2cb4c27f</td>\n",
       "      <td>disgust</td>\n",
       "      <td>2020-11-07 09:43:50</td>\n",
       "    </tr>\n",
       "  </tbody>\n",
       "</table>\n",
       "</div>"
      ],
      "text/plain": [
       "   Unnamed: 0                            Content ID  \\\n",
       "0           0  97522e57-d9ab-4bd6-97bf-c24d952602d2   \n",
       "1           1  97522e57-d9ab-4bd6-97bf-c24d952602d2   \n",
       "\n",
       "                                User ID     Type             Datetime  \n",
       "0                                   NaN      NaN  2021-04-22 15:17:15  \n",
       "1  5d454588-283d-459d-915d-c48a2cb4c27f  disgust  2020-11-07 09:43:50  "
      ]
     },
     "execution_count": 744,
     "metadata": {},
     "output_type": "execute_result"
    }
   ],
   "source": [
    "df_reactions = pd.read_csv('Reactions.csv')\n",
    "df_reactions.head(2)"
   ]
  },
  {
   "cell_type": "code",
   "execution_count": 745,
   "id": "62f447cd-2a3b-4d86-83cb-ef7a18454f67",
   "metadata": {},
   "outputs": [
    {
     "data": {
      "text/html": [
       "<div>\n",
       "<style scoped>\n",
       "    .dataframe tbody tr th:only-of-type {\n",
       "        vertical-align: middle;\n",
       "    }\n",
       "\n",
       "    .dataframe tbody tr th {\n",
       "        vertical-align: top;\n",
       "    }\n",
       "\n",
       "    .dataframe thead th {\n",
       "        text-align: right;\n",
       "    }\n",
       "</style>\n",
       "<table border=\"1\" class=\"dataframe\">\n",
       "  <thead>\n",
       "    <tr style=\"text-align: right;\">\n",
       "      <th></th>\n",
       "      <th>Content ID</th>\n",
       "      <th>User ID</th>\n",
       "      <th>Type</th>\n",
       "      <th>Datetime</th>\n",
       "    </tr>\n",
       "  </thead>\n",
       "  <tbody>\n",
       "    <tr>\n",
       "      <th>0</th>\n",
       "      <td>97522e57-d9ab-4bd6-97bf-c24d952602d2</td>\n",
       "      <td>NaN</td>\n",
       "      <td>NaN</td>\n",
       "      <td>2021-04-22 15:17:15</td>\n",
       "    </tr>\n",
       "    <tr>\n",
       "      <th>1</th>\n",
       "      <td>97522e57-d9ab-4bd6-97bf-c24d952602d2</td>\n",
       "      <td>5d454588-283d-459d-915d-c48a2cb4c27f</td>\n",
       "      <td>disgust</td>\n",
       "      <td>2020-11-07 09:43:50</td>\n",
       "    </tr>\n",
       "  </tbody>\n",
       "</table>\n",
       "</div>"
      ],
      "text/plain": [
       "                             Content ID                               User ID  \\\n",
       "0  97522e57-d9ab-4bd6-97bf-c24d952602d2                                   NaN   \n",
       "1  97522e57-d9ab-4bd6-97bf-c24d952602d2  5d454588-283d-459d-915d-c48a2cb4c27f   \n",
       "\n",
       "      Type             Datetime  \n",
       "0      NaN  2021-04-22 15:17:15  \n",
       "1  disgust  2020-11-07 09:43:50  "
      ]
     },
     "execution_count": 745,
     "metadata": {},
     "output_type": "execute_result"
    }
   ],
   "source": [
    "df_reactions.drop(columns = ['Unnamed: 0'], inplace = True)\n",
    "df_reactions.head(2)"
   ]
  },
  {
   "cell_type": "code",
   "execution_count": 746,
   "id": "b2c9ca46-02c2-4717-8768-0ecc99b9e300",
   "metadata": {},
   "outputs": [
    {
     "data": {
      "text/plain": [
       "(25553, 4)"
      ]
     },
     "execution_count": 746,
     "metadata": {},
     "output_type": "execute_result"
    }
   ],
   "source": [
    "df_reactions.shape"
   ]
  },
  {
   "cell_type": "code",
   "execution_count": 747,
   "id": "2642e6b1-9fd9-4d8a-9832-ddcbd1db7ade",
   "metadata": {},
   "outputs": [
    {
     "data": {
      "text/plain": [
       "Index(['Content ID', 'User ID', 'Type', 'Datetime'], dtype='object')"
      ]
     },
     "execution_count": 747,
     "metadata": {},
     "output_type": "execute_result"
    }
   ],
   "source": [
    "df_reactions.columns"
   ]
  },
  {
   "cell_type": "code",
   "execution_count": 748,
   "id": "5481d729-99f0-4f35-90ff-4f7c56db2986",
   "metadata": {},
   "outputs": [
    {
     "data": {
      "text/plain": [
       "Content ID       0\n",
       "User ID       3019\n",
       "Type           980\n",
       "Datetime         0\n",
       "dtype: int64"
      ]
     },
     "execution_count": 748,
     "metadata": {},
     "output_type": "execute_result"
    }
   ],
   "source": [
    "df_reactions.isna().sum()"
   ]
  },
  {
   "cell_type": "markdown",
   "id": "a22c216f-ddf3-46ef-8a40-8e3c1960cd60",
   "metadata": {},
   "source": [
    "There are 3019 null values in UserId and 980 in the Type columns, thus, dropping those columns."
   ]
  },
  {
   "cell_type": "code",
   "execution_count": 749,
   "id": "fa1946d9-2053-4a46-b674-78b09c91857a",
   "metadata": {},
   "outputs": [],
   "source": [
    "df_reactions.dropna(inplace=True)"
   ]
  },
  {
   "cell_type": "code",
   "execution_count": 750,
   "id": "552a355e-05c9-48d6-8245-ffec449ca612",
   "metadata": {},
   "outputs": [
    {
     "data": {
      "text/plain": [
       "Content ID    0\n",
       "User ID       0\n",
       "Type          0\n",
       "Datetime      0\n",
       "dtype: int64"
      ]
     },
     "execution_count": 750,
     "metadata": {},
     "output_type": "execute_result"
    }
   ],
   "source": [
    "df_reactions.isna().sum()"
   ]
  },
  {
   "cell_type": "markdown",
   "id": "33ca7751-7204-4690-965b-8a74536a90fd",
   "metadata": {},
   "source": [
    "All null values cleaned"
   ]
  },
  {
   "cell_type": "code",
   "execution_count": 751,
   "id": "443ebc02-db41-47b8-b611-594c6caacea1",
   "metadata": {},
   "outputs": [
    {
     "data": {
      "text/plain": [
       "962"
      ]
     },
     "execution_count": 751,
     "metadata": {},
     "output_type": "execute_result"
    }
   ],
   "source": [
    "df_reactions['Content ID'].nunique()"
   ]
  },
  {
   "cell_type": "code",
   "execution_count": 752,
   "id": "a1fc30ee-46de-4e88-9833-ff2a5280928e",
   "metadata": {},
   "outputs": [
    {
     "data": {
      "text/plain": [
       "801"
      ]
     },
     "execution_count": 752,
     "metadata": {},
     "output_type": "execute_result"
    }
   ],
   "source": [
    "df_content['Content ID'].nunique()"
   ]
  },
  {
   "cell_type": "markdown",
   "id": "048836f9-9221-443b-9050-54c4697e059c",
   "metadata": {},
   "source": [
    "Now, there is a discrepancy between the no. of unique content Ids in content table and the reactions table. Contents table has 801 unique contents, while reactions has 962."
   ]
  },
  {
   "cell_type": "code",
   "execution_count": 753,
   "id": "8d3829c7-9b40-463a-b60e-40d7b7a1364d",
   "metadata": {},
   "outputs": [
    {
     "data": {
      "text/plain": [
       "Content ID    object\n",
       "User ID       object\n",
       "Type          object\n",
       "Datetime      object\n",
       "dtype: object"
      ]
     },
     "execution_count": 753,
     "metadata": {},
     "output_type": "execute_result"
    }
   ],
   "source": [
    "df_reactions.dtypes"
   ]
  },
  {
   "cell_type": "markdown",
   "id": "dbee2da0-f82a-4a37-8f7d-a34c1b9c6a36",
   "metadata": {},
   "source": [
    "Here, Datetime is object, however it should be in datetime format. Thus, changing the format for it."
   ]
  },
  {
   "cell_type": "code",
   "execution_count": 754,
   "id": "980072d8-bf29-4237-a49e-2aff0e0b4fe0",
   "metadata": {},
   "outputs": [
    {
     "data": {
      "text/plain": [
       "Content ID            object\n",
       "User ID               object\n",
       "Type                  object\n",
       "Datetime      datetime64[ns]\n",
       "dtype: object"
      ]
     },
     "execution_count": 754,
     "metadata": {},
     "output_type": "execute_result"
    }
   ],
   "source": [
    "df_reactions['Datetime'] = pd.to_datetime(df_reactions['Datetime'], errors='coerce')\n",
    "df_reactions.dtypes"
   ]
  },
  {
   "cell_type": "markdown",
   "id": "84937a5a-cbe9-4dae-8abc-03b21789b796",
   "metadata": {},
   "source": [
    "The data type of Datetime column is now converted successfully."
   ]
  },
  {
   "cell_type": "code",
   "execution_count": 755,
   "id": "434f2fca-eca2-4fc0-b5d6-0d7f2545349e",
   "metadata": {},
   "outputs": [
    {
     "data": {
      "text/html": [
       "<div>\n",
       "<style scoped>\n",
       "    .dataframe tbody tr th:only-of-type {\n",
       "        vertical-align: middle;\n",
       "    }\n",
       "\n",
       "    .dataframe tbody tr th {\n",
       "        vertical-align: top;\n",
       "    }\n",
       "\n",
       "    .dataframe thead th {\n",
       "        text-align: right;\n",
       "    }\n",
       "</style>\n",
       "<table border=\"1\" class=\"dataframe\">\n",
       "  <thead>\n",
       "    <tr style=\"text-align: right;\">\n",
       "      <th></th>\n",
       "      <th>Content ID</th>\n",
       "      <th>User ID</th>\n",
       "      <th>Reaction Type</th>\n",
       "      <th>Datetime</th>\n",
       "    </tr>\n",
       "  </thead>\n",
       "  <tbody>\n",
       "    <tr>\n",
       "      <th>1</th>\n",
       "      <td>97522e57-d9ab-4bd6-97bf-c24d952602d2</td>\n",
       "      <td>5d454588-283d-459d-915d-c48a2cb4c27f</td>\n",
       "      <td>disgust</td>\n",
       "      <td>2020-11-07 09:43:50</td>\n",
       "    </tr>\n",
       "    <tr>\n",
       "      <th>2</th>\n",
       "      <td>97522e57-d9ab-4bd6-97bf-c24d952602d2</td>\n",
       "      <td>92b87fa5-f271-43e0-af66-84fac21052e6</td>\n",
       "      <td>dislike</td>\n",
       "      <td>2021-06-17 12:22:51</td>\n",
       "    </tr>\n",
       "  </tbody>\n",
       "</table>\n",
       "</div>"
      ],
      "text/plain": [
       "                             Content ID                               User ID  \\\n",
       "1  97522e57-d9ab-4bd6-97bf-c24d952602d2  5d454588-283d-459d-915d-c48a2cb4c27f   \n",
       "2  97522e57-d9ab-4bd6-97bf-c24d952602d2  92b87fa5-f271-43e0-af66-84fac21052e6   \n",
       "\n",
       "  Reaction Type            Datetime  \n",
       "1       disgust 2020-11-07 09:43:50  \n",
       "2       dislike 2021-06-17 12:22:51  "
      ]
     },
     "execution_count": 755,
     "metadata": {},
     "output_type": "execute_result"
    }
   ],
   "source": [
    "df_reactions.rename(columns = {'Type': 'Reaction Type'}, inplace=True)\n",
    "df_reactions.head(2)"
   ]
  },
  {
   "cell_type": "markdown",
   "id": "d2344033-97c6-43cc-aa37-925254efd4a5",
   "metadata": {},
   "source": [
    "#### 3. df_reactionTypes"
   ]
  },
  {
   "cell_type": "code",
   "execution_count": 756,
   "id": "6e004299-391c-4d3d-ac5a-3091d272eb30",
   "metadata": {},
   "outputs": [
    {
     "data": {
      "text/html": [
       "<div>\n",
       "<style scoped>\n",
       "    .dataframe tbody tr th:only-of-type {\n",
       "        vertical-align: middle;\n",
       "    }\n",
       "\n",
       "    .dataframe tbody tr th {\n",
       "        vertical-align: top;\n",
       "    }\n",
       "\n",
       "    .dataframe thead th {\n",
       "        text-align: right;\n",
       "    }\n",
       "</style>\n",
       "<table border=\"1\" class=\"dataframe\">\n",
       "  <thead>\n",
       "    <tr style=\"text-align: right;\">\n",
       "      <th></th>\n",
       "      <th>Unnamed: 0</th>\n",
       "      <th>Type</th>\n",
       "      <th>Sentiment</th>\n",
       "      <th>Score</th>\n",
       "    </tr>\n",
       "  </thead>\n",
       "  <tbody>\n",
       "    <tr>\n",
       "      <th>0</th>\n",
       "      <td>0</td>\n",
       "      <td>heart</td>\n",
       "      <td>positive</td>\n",
       "      <td>60</td>\n",
       "    </tr>\n",
       "    <tr>\n",
       "      <th>1</th>\n",
       "      <td>1</td>\n",
       "      <td>want</td>\n",
       "      <td>positive</td>\n",
       "      <td>70</td>\n",
       "    </tr>\n",
       "  </tbody>\n",
       "</table>\n",
       "</div>"
      ],
      "text/plain": [
       "   Unnamed: 0   Type Sentiment  Score\n",
       "0           0  heart  positive     60\n",
       "1           1   want  positive     70"
      ]
     },
     "execution_count": 756,
     "metadata": {},
     "output_type": "execute_result"
    }
   ],
   "source": [
    "df_reactionTypes = pd.read_csv('ReactionTypes.csv')\n",
    "df_reactionTypes.head(2)"
   ]
  },
  {
   "cell_type": "code",
   "execution_count": 757,
   "id": "eada4900-bcb8-4294-a4d5-919b0cfa2c35",
   "metadata": {},
   "outputs": [
    {
     "data": {
      "text/html": [
       "<div>\n",
       "<style scoped>\n",
       "    .dataframe tbody tr th:only-of-type {\n",
       "        vertical-align: middle;\n",
       "    }\n",
       "\n",
       "    .dataframe tbody tr th {\n",
       "        vertical-align: top;\n",
       "    }\n",
       "\n",
       "    .dataframe thead th {\n",
       "        text-align: right;\n",
       "    }\n",
       "</style>\n",
       "<table border=\"1\" class=\"dataframe\">\n",
       "  <thead>\n",
       "    <tr style=\"text-align: right;\">\n",
       "      <th></th>\n",
       "      <th>Type</th>\n",
       "      <th>Sentiment</th>\n",
       "      <th>Score</th>\n",
       "    </tr>\n",
       "  </thead>\n",
       "  <tbody>\n",
       "    <tr>\n",
       "      <th>0</th>\n",
       "      <td>heart</td>\n",
       "      <td>positive</td>\n",
       "      <td>60</td>\n",
       "    </tr>\n",
       "    <tr>\n",
       "      <th>1</th>\n",
       "      <td>want</td>\n",
       "      <td>positive</td>\n",
       "      <td>70</td>\n",
       "    </tr>\n",
       "  </tbody>\n",
       "</table>\n",
       "</div>"
      ],
      "text/plain": [
       "    Type Sentiment  Score\n",
       "0  heart  positive     60\n",
       "1   want  positive     70"
      ]
     },
     "execution_count": 757,
     "metadata": {},
     "output_type": "execute_result"
    }
   ],
   "source": [
    "df_reactionTypes.drop(columns = ['Unnamed: 0'], inplace = True)\n",
    "df_reactionTypes.head(2)"
   ]
  },
  {
   "cell_type": "code",
   "execution_count": 758,
   "id": "d4000d9e-267e-42c6-933d-cd0b7dc1e252",
   "metadata": {},
   "outputs": [
    {
     "data": {
      "text/plain": [
       "Index(['Type', 'Sentiment', 'Score'], dtype='object')"
      ]
     },
     "execution_count": 758,
     "metadata": {},
     "output_type": "execute_result"
    }
   ],
   "source": [
    "df_reactionTypes.columns"
   ]
  },
  {
   "cell_type": "code",
   "execution_count": 759,
   "id": "69b45255-0eba-4367-a4dd-a6c39c5eb4dc",
   "metadata": {},
   "outputs": [
    {
     "data": {
      "text/plain": [
       "(16, 3)"
      ]
     },
     "execution_count": 759,
     "metadata": {},
     "output_type": "execute_result"
    }
   ],
   "source": [
    "df_reactionTypes.shape"
   ]
  },
  {
   "cell_type": "code",
   "execution_count": 760,
   "id": "5dd13e02-4f3b-4538-affc-a740809efec5",
   "metadata": {},
   "outputs": [
    {
     "data": {
      "text/plain": [
       "Type         0\n",
       "Sentiment    0\n",
       "Score        0\n",
       "dtype: int64"
      ]
     },
     "execution_count": 760,
     "metadata": {},
     "output_type": "execute_result"
    }
   ],
   "source": [
    "df_reactionTypes.isna().sum()"
   ]
  },
  {
   "cell_type": "code",
   "execution_count": 761,
   "id": "e05fbdff-ef9b-4625-b254-cf60811c7125",
   "metadata": {},
   "outputs": [
    {
     "data": {
      "text/plain": [
       "Type         object\n",
       "Sentiment    object\n",
       "Score         int64\n",
       "dtype: object"
      ]
     },
     "execution_count": 761,
     "metadata": {},
     "output_type": "execute_result"
    }
   ],
   "source": [
    "df_reactionTypes.dtypes"
   ]
  },
  {
   "cell_type": "code",
   "execution_count": 762,
   "id": "ace8c102-2fbf-4c00-84e8-dc38dc88154e",
   "metadata": {},
   "outputs": [
    {
     "data": {
      "text/html": [
       "<div>\n",
       "<style scoped>\n",
       "    .dataframe tbody tr th:only-of-type {\n",
       "        vertical-align: middle;\n",
       "    }\n",
       "\n",
       "    .dataframe tbody tr th {\n",
       "        vertical-align: top;\n",
       "    }\n",
       "\n",
       "    .dataframe thead th {\n",
       "        text-align: right;\n",
       "    }\n",
       "</style>\n",
       "<table border=\"1\" class=\"dataframe\">\n",
       "  <thead>\n",
       "    <tr style=\"text-align: right;\">\n",
       "      <th></th>\n",
       "      <th>Reaction Type</th>\n",
       "      <th>Sentiment</th>\n",
       "      <th>Score</th>\n",
       "    </tr>\n",
       "  </thead>\n",
       "  <tbody>\n",
       "    <tr>\n",
       "      <th>0</th>\n",
       "      <td>heart</td>\n",
       "      <td>positive</td>\n",
       "      <td>60</td>\n",
       "    </tr>\n",
       "    <tr>\n",
       "      <th>1</th>\n",
       "      <td>want</td>\n",
       "      <td>positive</td>\n",
       "      <td>70</td>\n",
       "    </tr>\n",
       "  </tbody>\n",
       "</table>\n",
       "</div>"
      ],
      "text/plain": [
       "  Reaction Type Sentiment  Score\n",
       "0         heart  positive     60\n",
       "1          want  positive     70"
      ]
     },
     "execution_count": 762,
     "metadata": {},
     "output_type": "execute_result"
    }
   ],
   "source": [
    "df_reactionTypes.rename(columns = {'Type': 'Reaction Type'}, inplace=True)\n",
    "df_reactionTypes.head(2)"
   ]
  },
  {
   "cell_type": "markdown",
   "id": "ce985282-11b0-4ae6-ac31-5b509c0c3001",
   "metadata": {},
   "source": [
    "### Identifying the relevant columns"
   ]
  },
  {
   "cell_type": "code",
   "execution_count": 763,
   "id": "14a91519-dd80-487b-914d-6b1169bf0eca",
   "metadata": {},
   "outputs": [
    {
     "data": {
      "text/plain": [
       "Index(['Content ID', 'User ID', 'Content Type', 'Category', 'URL'], dtype='object')"
      ]
     },
     "execution_count": 763,
     "metadata": {},
     "output_type": "execute_result"
    }
   ],
   "source": [
    "df_content.columns"
   ]
  },
  {
   "cell_type": "markdown",
   "id": "df20e598-a48f-45e1-9be7-efba63a39035",
   "metadata": {},
   "source": [
    "Here, the URL column doesn't seem very useful for the analysis of popular categories, thus, dropping it."
   ]
  },
  {
   "cell_type": "code",
   "execution_count": 764,
   "id": "30dc0515-8932-4950-83a7-bf76e94b7f83",
   "metadata": {},
   "outputs": [
    {
     "data": {
      "text/plain": [
       "Index(['Content ID', 'User ID', 'Content Type', 'Category'], dtype='object')"
      ]
     },
     "execution_count": 764,
     "metadata": {},
     "output_type": "execute_result"
    }
   ],
   "source": [
    "df_content.drop(columns = ['URL'], inplace = True)\n",
    "df_content.columns"
   ]
  },
  {
   "cell_type": "code",
   "execution_count": 765,
   "id": "5ad19fa6-1b73-49c0-ac4e-4e5df3f85336",
   "metadata": {},
   "outputs": [
    {
     "data": {
      "text/plain": [
       "Index(['Content ID', 'User ID', 'Reaction Type', 'Datetime'], dtype='object')"
      ]
     },
     "execution_count": 765,
     "metadata": {},
     "output_type": "execute_result"
    }
   ],
   "source": [
    "df_reactions.columns"
   ]
  },
  {
   "cell_type": "markdown",
   "id": "6f91f92b-e604-47fc-b642-81e15fbde18f",
   "metadata": {},
   "source": [
    "Here, we will keep all the columns considering we can analyze at what time which content is favoured by what number of users."
   ]
  },
  {
   "cell_type": "code",
   "execution_count": 766,
   "id": "e4164ef5-fc25-46b6-a10f-4f44b36a91f7",
   "metadata": {},
   "outputs": [
    {
     "data": {
      "text/plain": [
       "Index(['Reaction Type', 'Sentiment', 'Score'], dtype='object')"
      ]
     },
     "execution_count": 766,
     "metadata": {},
     "output_type": "execute_result"
    }
   ],
   "source": [
    "df_reactionTypes.columns"
   ]
  },
  {
   "cell_type": "markdown",
   "id": "c4c93bbb-49c0-48eb-9bbf-aeec6c9af680",
   "metadata": {},
   "source": [
    "Here as well, all the columns will be retained for now."
   ]
  },
  {
   "cell_type": "markdown",
   "id": "22587f09-9200-488f-b0c5-4ae905c35860",
   "metadata": {},
   "source": [
    "## Merging the final file:"
   ]
  },
  {
   "cell_type": "code",
   "execution_count": 767,
   "id": "50dfd921-e1f0-47ad-83df-fe3a55629d0c",
   "metadata": {},
   "outputs": [
    {
     "data": {
      "text/html": [
       "<div>\n",
       "<style scoped>\n",
       "    .dataframe tbody tr th:only-of-type {\n",
       "        vertical-align: middle;\n",
       "    }\n",
       "\n",
       "    .dataframe tbody tr th {\n",
       "        vertical-align: top;\n",
       "    }\n",
       "\n",
       "    .dataframe thead th {\n",
       "        text-align: right;\n",
       "    }\n",
       "</style>\n",
       "<table border=\"1\" class=\"dataframe\">\n",
       "  <thead>\n",
       "    <tr style=\"text-align: right;\">\n",
       "      <th></th>\n",
       "      <th>Content ID</th>\n",
       "      <th>User ID</th>\n",
       "      <th>Content Type</th>\n",
       "      <th>Category</th>\n",
       "    </tr>\n",
       "  </thead>\n",
       "  <tbody>\n",
       "    <tr>\n",
       "      <th>0</th>\n",
       "      <td>97522e57-d9ab-4bd6-97bf-c24d952602d2</td>\n",
       "      <td>8d3cd87d-8a31-4935-9a4f-b319bfe05f31</td>\n",
       "      <td>photo</td>\n",
       "      <td>studying</td>\n",
       "    </tr>\n",
       "    <tr>\n",
       "      <th>1</th>\n",
       "      <td>9f737e0a-3cdd-4d29-9d24-753f4e3be810</td>\n",
       "      <td>beb1f34e-7870-46d6-9fc7-2e12eb83ce43</td>\n",
       "      <td>photo</td>\n",
       "      <td>healthy eating</td>\n",
       "    </tr>\n",
       "  </tbody>\n",
       "</table>\n",
       "</div>"
      ],
      "text/plain": [
       "                             Content ID                               User ID  \\\n",
       "0  97522e57-d9ab-4bd6-97bf-c24d952602d2  8d3cd87d-8a31-4935-9a4f-b319bfe05f31   \n",
       "1  9f737e0a-3cdd-4d29-9d24-753f4e3be810  beb1f34e-7870-46d6-9fc7-2e12eb83ce43   \n",
       "\n",
       "  Content Type        Category  \n",
       "0        photo        studying  \n",
       "1        photo  healthy eating  "
      ]
     },
     "execution_count": 767,
     "metadata": {},
     "output_type": "execute_result"
    }
   ],
   "source": [
    "df_content.head(2)"
   ]
  },
  {
   "cell_type": "code",
   "execution_count": 768,
   "id": "be3a23d4-0e15-4448-908e-d63dc38f7ee5",
   "metadata": {},
   "outputs": [
    {
     "data": {
      "text/plain": [
       "(801, 4)"
      ]
     },
     "execution_count": 768,
     "metadata": {},
     "output_type": "execute_result"
    }
   ],
   "source": [
    "df_content.shape"
   ]
  },
  {
   "cell_type": "code",
   "execution_count": 769,
   "id": "f8f0c65c-d568-42ae-a8a1-345be6c8447f",
   "metadata": {},
   "outputs": [
    {
     "data": {
      "text/plain": [
       "801"
      ]
     },
     "execution_count": 769,
     "metadata": {},
     "output_type": "execute_result"
    }
   ],
   "source": [
    "df_content['Content ID'].nunique()"
   ]
  },
  {
   "cell_type": "markdown",
   "id": "ac96184a-2e51-453c-ab0a-e6e9ee39cf0d",
   "metadata": {},
   "source": [
    "There are 801 unique content Ids here."
   ]
  },
  {
   "cell_type": "code",
   "execution_count": 770,
   "id": "4487757d-313c-43bb-9acd-9cc988074cb1",
   "metadata": {},
   "outputs": [
    {
     "data": {
      "text/plain": [
       "408"
      ]
     },
     "execution_count": 770,
     "metadata": {},
     "output_type": "execute_result"
    }
   ],
   "source": [
    "df_content['User ID'].nunique()"
   ]
  },
  {
   "cell_type": "markdown",
   "id": "31fc84ad-3b6c-4e0c-a678-b21274f00a00",
   "metadata": {},
   "source": [
    "So, this shows, more than 1 user is consuming by multiple contents."
   ]
  },
  {
   "cell_type": "markdown",
   "id": "70118719-de66-40f5-af3b-15768279a53c",
   "metadata": {},
   "source": [
    "So, we will create a df of user Id and no. of contents watched."
   ]
  },
  {
   "cell_type": "code",
   "execution_count": 771,
   "id": "82755356-91cc-4337-8cef-bc0739d6113e",
   "metadata": {},
   "outputs": [
    {
     "data": {
      "text/html": [
       "<div>\n",
       "<style scoped>\n",
       "    .dataframe tbody tr th:only-of-type {\n",
       "        vertical-align: middle;\n",
       "    }\n",
       "\n",
       "    .dataframe tbody tr th {\n",
       "        vertical-align: top;\n",
       "    }\n",
       "\n",
       "    .dataframe thead th {\n",
       "        text-align: right;\n",
       "    }\n",
       "</style>\n",
       "<table border=\"1\" class=\"dataframe\">\n",
       "  <thead>\n",
       "    <tr style=\"text-align: right;\">\n",
       "      <th></th>\n",
       "      <th>User  ID</th>\n",
       "      <th>No. of Content Viewed</th>\n",
       "    </tr>\n",
       "  </thead>\n",
       "  <tbody>\n",
       "    <tr>\n",
       "      <th>0</th>\n",
       "      <td>002cd824-10f2-447c-8d1c-940325a1cdf4</td>\n",
       "      <td>2</td>\n",
       "    </tr>\n",
       "    <tr>\n",
       "      <th>1</th>\n",
       "      <td>007a1366-a46f-40f1-9ba5-01245aeaf20f</td>\n",
       "      <td>2</td>\n",
       "    </tr>\n",
       "    <tr>\n",
       "      <th>2</th>\n",
       "      <td>04e52602-e370-4a99-bfda-f0c1655058da</td>\n",
       "      <td>1</td>\n",
       "    </tr>\n",
       "    <tr>\n",
       "      <th>3</th>\n",
       "      <td>054b5d2a-7ee3-49c8-912a-1cf58389ae60</td>\n",
       "      <td>2</td>\n",
       "    </tr>\n",
       "    <tr>\n",
       "      <th>4</th>\n",
       "      <td>05782669-264e-4c14-990e-14c8dbb13bef</td>\n",
       "      <td>5</td>\n",
       "    </tr>\n",
       "  </tbody>\n",
       "</table>\n",
       "</div>"
      ],
      "text/plain": [
       "                               User  ID  No. of Content Viewed\n",
       "0  002cd824-10f2-447c-8d1c-940325a1cdf4                      2\n",
       "1  007a1366-a46f-40f1-9ba5-01245aeaf20f                      2\n",
       "2  04e52602-e370-4a99-bfda-f0c1655058da                      1\n",
       "3  054b5d2a-7ee3-49c8-912a-1cf58389ae60                      2\n",
       "4  05782669-264e-4c14-990e-14c8dbb13bef                      5"
      ]
     },
     "execution_count": 771,
     "metadata": {},
     "output_type": "execute_result"
    }
   ],
   "source": [
    "df_viewer = df_content.groupby('User ID')['Content ID'].nunique().reset_index()\n",
    "df_viewer.columns = ['User  ID', 'No. of Content Viewed']\n",
    "df_viewer.head()"
   ]
  },
  {
   "cell_type": "code",
   "execution_count": 772,
   "id": "6d8fd1dd-aeae-407d-9d31-7150a7364035",
   "metadata": {},
   "outputs": [
    {
     "data": {
      "text/plain": [
       "(408, 2)"
      ]
     },
     "execution_count": 772,
     "metadata": {},
     "output_type": "execute_result"
    }
   ],
   "source": [
    "df_viewer.shape"
   ]
  },
  {
   "cell_type": "code",
   "execution_count": 773,
   "id": "3847ddc4-89bf-4793-9144-56b77b7cbcee",
   "metadata": {},
   "outputs": [
    {
     "data": {
      "text/plain": [
       "No. of Content Viewed\n",
       "1    161\n",
       "2    149\n",
       "3     62\n",
       "4     28\n",
       "5      5\n",
       "6      2\n",
       "7      1\n",
       "Name: count, dtype: int64"
      ]
     },
     "execution_count": 773,
     "metadata": {},
     "output_type": "execute_result"
    }
   ],
   "source": [
    "df_viewer['No. of Content Viewed'].value_counts()"
   ]
  },
  {
   "cell_type": "markdown",
   "id": "4d120d19-e958-4c0c-a32b-1043ef45c2eb",
   "metadata": {},
   "source": [
    "Well, it is clear from the above data that one user is viewing multiple content, however, one content is currently recorded to be viewed only by one person. Thus, this User ID column will not be considered in further analysis of popular content."
   ]
  },
  {
   "cell_type": "code",
   "execution_count": 774,
   "id": "28317471-cd43-4331-b6cb-289436f6ca99",
   "metadata": {},
   "outputs": [],
   "source": [
    "df_content.drop(columns = ['User ID'], inplace = True)"
   ]
  },
  {
   "cell_type": "code",
   "execution_count": 775,
   "id": "581e3bd8-5b9b-4cd2-abc7-0b7866c675c5",
   "metadata": {},
   "outputs": [
    {
     "data": {
      "text/html": [
       "<div>\n",
       "<style scoped>\n",
       "    .dataframe tbody tr th:only-of-type {\n",
       "        vertical-align: middle;\n",
       "    }\n",
       "\n",
       "    .dataframe tbody tr th {\n",
       "        vertical-align: top;\n",
       "    }\n",
       "\n",
       "    .dataframe thead th {\n",
       "        text-align: right;\n",
       "    }\n",
       "</style>\n",
       "<table border=\"1\" class=\"dataframe\">\n",
       "  <thead>\n",
       "    <tr style=\"text-align: right;\">\n",
       "      <th></th>\n",
       "      <th>Content ID</th>\n",
       "      <th>User ID</th>\n",
       "      <th>Reaction Type</th>\n",
       "      <th>Datetime</th>\n",
       "    </tr>\n",
       "  </thead>\n",
       "  <tbody>\n",
       "    <tr>\n",
       "      <th>1</th>\n",
       "      <td>97522e57-d9ab-4bd6-97bf-c24d952602d2</td>\n",
       "      <td>5d454588-283d-459d-915d-c48a2cb4c27f</td>\n",
       "      <td>disgust</td>\n",
       "      <td>2020-11-07 09:43:50</td>\n",
       "    </tr>\n",
       "    <tr>\n",
       "      <th>2</th>\n",
       "      <td>97522e57-d9ab-4bd6-97bf-c24d952602d2</td>\n",
       "      <td>92b87fa5-f271-43e0-af66-84fac21052e6</td>\n",
       "      <td>dislike</td>\n",
       "      <td>2021-06-17 12:22:51</td>\n",
       "    </tr>\n",
       "  </tbody>\n",
       "</table>\n",
       "</div>"
      ],
      "text/plain": [
       "                             Content ID                               User ID  \\\n",
       "1  97522e57-d9ab-4bd6-97bf-c24d952602d2  5d454588-283d-459d-915d-c48a2cb4c27f   \n",
       "2  97522e57-d9ab-4bd6-97bf-c24d952602d2  92b87fa5-f271-43e0-af66-84fac21052e6   \n",
       "\n",
       "  Reaction Type            Datetime  \n",
       "1       disgust 2020-11-07 09:43:50  \n",
       "2       dislike 2021-06-17 12:22:51  "
      ]
     },
     "execution_count": 775,
     "metadata": {},
     "output_type": "execute_result"
    }
   ],
   "source": [
    "df_reactions.head(2)"
   ]
  },
  {
   "cell_type": "code",
   "execution_count": 776,
   "id": "71edbccf-1fdd-4b65-887b-e5a47ba5d12b",
   "metadata": {},
   "outputs": [
    {
     "data": {
      "text/plain": [
       "Datetime\n",
       "2020-10-29 20:51:08    2\n",
       "2020-09-10 06:59:59    2\n",
       "2020-11-01 00:05:07    2\n",
       "2020-09-11 05:52:04    2\n",
       "2020-12-13 17:37:25    2\n",
       "                      ..\n",
       "2020-08-17 07:47:08    1\n",
       "2021-02-15 19:24:31    1\n",
       "2020-07-03 02:35:26    1\n",
       "2020-11-15 04:11:51    1\n",
       "2021-01-04 04:55:11    1\n",
       "Name: count, Length: 22524, dtype: int64"
      ]
     },
     "execution_count": 776,
     "metadata": {},
     "output_type": "execute_result"
    }
   ],
   "source": [
    "df_reactions['Datetime'].value_counts()"
   ]
  },
  {
   "cell_type": "code",
   "execution_count": 777,
   "id": "976edab2-7bfb-444b-a4fa-719745632883",
   "metadata": {},
   "outputs": [
    {
     "data": {
      "text/html": [
       "<div>\n",
       "<style scoped>\n",
       "    .dataframe tbody tr th:only-of-type {\n",
       "        vertical-align: middle;\n",
       "    }\n",
       "\n",
       "    .dataframe tbody tr th {\n",
       "        vertical-align: top;\n",
       "    }\n",
       "\n",
       "    .dataframe thead th {\n",
       "        text-align: right;\n",
       "    }\n",
       "</style>\n",
       "<table border=\"1\" class=\"dataframe\">\n",
       "  <thead>\n",
       "    <tr style=\"text-align: right;\">\n",
       "      <th></th>\n",
       "      <th>Content ID</th>\n",
       "      <th>User ID</th>\n",
       "      <th>Reaction Type</th>\n",
       "      <th>Datetime</th>\n",
       "      <th>Category</th>\n",
       "    </tr>\n",
       "  </thead>\n",
       "  <tbody>\n",
       "    <tr>\n",
       "      <th>1</th>\n",
       "      <td>97522e57-d9ab-4bd6-97bf-c24d952602d2</td>\n",
       "      <td>5d454588-283d-459d-915d-c48a2cb4c27f</td>\n",
       "      <td>disgust</td>\n",
       "      <td>2020-11-07 09:43:50</td>\n",
       "      <td>studying</td>\n",
       "    </tr>\n",
       "    <tr>\n",
       "      <th>2</th>\n",
       "      <td>97522e57-d9ab-4bd6-97bf-c24d952602d2</td>\n",
       "      <td>92b87fa5-f271-43e0-af66-84fac21052e6</td>\n",
       "      <td>dislike</td>\n",
       "      <td>2021-06-17 12:22:51</td>\n",
       "      <td>studying</td>\n",
       "    </tr>\n",
       "    <tr>\n",
       "      <th>3</th>\n",
       "      <td>97522e57-d9ab-4bd6-97bf-c24d952602d2</td>\n",
       "      <td>163daa38-8b77-48c9-9af6-37a6c1447ac2</td>\n",
       "      <td>scared</td>\n",
       "      <td>2021-04-18 05:13:58</td>\n",
       "      <td>studying</td>\n",
       "    </tr>\n",
       "    <tr>\n",
       "      <th>4</th>\n",
       "      <td>97522e57-d9ab-4bd6-97bf-c24d952602d2</td>\n",
       "      <td>34e8add9-0206-47fd-a501-037b994650a2</td>\n",
       "      <td>disgust</td>\n",
       "      <td>2021-01-06 19:13:01</td>\n",
       "      <td>studying</td>\n",
       "    </tr>\n",
       "    <tr>\n",
       "      <th>5</th>\n",
       "      <td>97522e57-d9ab-4bd6-97bf-c24d952602d2</td>\n",
       "      <td>9b6d35f9-5e15-4cd0-a8d7-b1f3340e02c4</td>\n",
       "      <td>interested</td>\n",
       "      <td>2020-08-23 12:25:58</td>\n",
       "      <td>studying</td>\n",
       "    </tr>\n",
       "  </tbody>\n",
       "</table>\n",
       "</div>"
      ],
      "text/plain": [
       "                             Content ID                               User ID  \\\n",
       "1  97522e57-d9ab-4bd6-97bf-c24d952602d2  5d454588-283d-459d-915d-c48a2cb4c27f   \n",
       "2  97522e57-d9ab-4bd6-97bf-c24d952602d2  92b87fa5-f271-43e0-af66-84fac21052e6   \n",
       "3  97522e57-d9ab-4bd6-97bf-c24d952602d2  163daa38-8b77-48c9-9af6-37a6c1447ac2   \n",
       "4  97522e57-d9ab-4bd6-97bf-c24d952602d2  34e8add9-0206-47fd-a501-037b994650a2   \n",
       "5  97522e57-d9ab-4bd6-97bf-c24d952602d2  9b6d35f9-5e15-4cd0-a8d7-b1f3340e02c4   \n",
       "\n",
       "  Reaction Type            Datetime  Category  \n",
       "1       disgust 2020-11-07 09:43:50  studying  \n",
       "2       dislike 2021-06-17 12:22:51  studying  \n",
       "3        scared 2021-04-18 05:13:58  studying  \n",
       "4       disgust 2021-01-06 19:13:01  studying  \n",
       "5    interested 2020-08-23 12:25:58  studying  "
      ]
     },
     "execution_count": 777,
     "metadata": {},
     "output_type": "execute_result"
    }
   ],
   "source": [
    "content_map = df_content.set_index('Content ID')['Category']\n",
    "\n",
    "# Map Category to df_reactions\n",
    "df_reactions['Category'] = df_reactions['Content ID'].map(content_map)\n",
    "df_reactions.head()"
   ]
  },
  {
   "cell_type": "code",
   "execution_count": 778,
   "id": "2cd7a8dd-0151-4c50-96ba-ead538fe5d19",
   "metadata": {},
   "outputs": [
    {
     "data": {
      "text/plain": [
       "Category\n",
       "travel             1368\n",
       "science            1351\n",
       "animals            1323\n",
       "healthy eating     1303\n",
       "cooking            1277\n",
       "culture            1217\n",
       "food               1183\n",
       "tennis             1153\n",
       "technology         1150\n",
       "education          1127\n",
       "soccer             1065\n",
       "fitness            1050\n",
       "dogs               1047\n",
       "veganism            948\n",
       "studying            911\n",
       "public speaking     911\n",
       "Name: count, dtype: int64"
      ]
     },
     "execution_count": 778,
     "metadata": {},
     "output_type": "execute_result"
    }
   ],
   "source": [
    "df_reactions.Category.value_counts()"
   ]
  },
  {
   "cell_type": "code",
   "execution_count": 779,
   "id": "f942a672-4c6e-4805-941d-9d354aeb0253",
   "metadata": {},
   "outputs": [
    {
     "data": {
      "text/plain": [
       "Content ID          0\n",
       "User ID             0\n",
       "Reaction Type       0\n",
       "Datetime            0\n",
       "Category         4150\n",
       "dtype: int64"
      ]
     },
     "execution_count": 779,
     "metadata": {},
     "output_type": "execute_result"
    }
   ],
   "source": [
    "df_reactions.isna().sum()"
   ]
  },
  {
   "cell_type": "code",
   "execution_count": 780,
   "id": "ca69ecd7-d54b-4709-8c73-86212bc4519b",
   "metadata": {},
   "outputs": [
    {
     "data": {
      "text/plain": [
       "Content ID       0\n",
       "User ID          0\n",
       "Reaction Type    0\n",
       "Datetime         0\n",
       "Category         0\n",
       "dtype: int64"
      ]
     },
     "execution_count": 780,
     "metadata": {},
     "output_type": "execute_result"
    }
   ],
   "source": [
    "df_reactions['Category'] = df_reactions['Category'].fillna('miscellaneous')\n",
    "df_reactions.isna().sum()"
   ]
  },
  {
   "cell_type": "code",
   "execution_count": 781,
   "id": "33b5ecb9-f667-41fc-924a-73cc93e637c2",
   "metadata": {},
   "outputs": [
    {
     "data": {
      "text/plain": [
       "190"
      ]
     },
     "execution_count": 781,
     "metadata": {},
     "output_type": "execute_result"
    }
   ],
   "source": [
    "df_reactions['Content ID'][df_reactions['Category'] == 'miscellaneous'].nunique()"
   ]
  },
  {
   "cell_type": "markdown",
   "id": "60aca928-d5a5-456b-9fc5-f05f92fcae6f",
   "metadata": {},
   "source": [
    "So there are 190 Content Ids which have now been labelled as Miscelleanous category, else if dropped these would have been lost."
   ]
  },
  {
   "cell_type": "code",
   "execution_count": 782,
   "id": "c3bab6d5-0107-40db-89f9-4cd1472b9ea1",
   "metadata": {},
   "outputs": [
    {
     "data": {
      "text/html": [
       "<div>\n",
       "<style scoped>\n",
       "    .dataframe tbody tr th:only-of-type {\n",
       "        vertical-align: middle;\n",
       "    }\n",
       "\n",
       "    .dataframe tbody tr th {\n",
       "        vertical-align: top;\n",
       "    }\n",
       "\n",
       "    .dataframe thead th {\n",
       "        text-align: right;\n",
       "    }\n",
       "</style>\n",
       "<table border=\"1\" class=\"dataframe\">\n",
       "  <thead>\n",
       "    <tr style=\"text-align: right;\">\n",
       "      <th></th>\n",
       "      <th>Content ID</th>\n",
       "      <th>User ID</th>\n",
       "      <th>Reaction Type</th>\n",
       "      <th>Datetime</th>\n",
       "      <th>Category</th>\n",
       "      <th>Sentiment_score</th>\n",
       "    </tr>\n",
       "  </thead>\n",
       "  <tbody>\n",
       "    <tr>\n",
       "      <th>1</th>\n",
       "      <td>97522e57-d9ab-4bd6-97bf-c24d952602d2</td>\n",
       "      <td>5d454588-283d-459d-915d-c48a2cb4c27f</td>\n",
       "      <td>disgust</td>\n",
       "      <td>2020-11-07 09:43:50</td>\n",
       "      <td>studying</td>\n",
       "      <td>0</td>\n",
       "    </tr>\n",
       "    <tr>\n",
       "      <th>2</th>\n",
       "      <td>97522e57-d9ab-4bd6-97bf-c24d952602d2</td>\n",
       "      <td>92b87fa5-f271-43e0-af66-84fac21052e6</td>\n",
       "      <td>dislike</td>\n",
       "      <td>2021-06-17 12:22:51</td>\n",
       "      <td>studying</td>\n",
       "      <td>10</td>\n",
       "    </tr>\n",
       "    <tr>\n",
       "      <th>3</th>\n",
       "      <td>97522e57-d9ab-4bd6-97bf-c24d952602d2</td>\n",
       "      <td>163daa38-8b77-48c9-9af6-37a6c1447ac2</td>\n",
       "      <td>scared</td>\n",
       "      <td>2021-04-18 05:13:58</td>\n",
       "      <td>studying</td>\n",
       "      <td>15</td>\n",
       "    </tr>\n",
       "    <tr>\n",
       "      <th>4</th>\n",
       "      <td>97522e57-d9ab-4bd6-97bf-c24d952602d2</td>\n",
       "      <td>34e8add9-0206-47fd-a501-037b994650a2</td>\n",
       "      <td>disgust</td>\n",
       "      <td>2021-01-06 19:13:01</td>\n",
       "      <td>studying</td>\n",
       "      <td>0</td>\n",
       "    </tr>\n",
       "    <tr>\n",
       "      <th>5</th>\n",
       "      <td>97522e57-d9ab-4bd6-97bf-c24d952602d2</td>\n",
       "      <td>9b6d35f9-5e15-4cd0-a8d7-b1f3340e02c4</td>\n",
       "      <td>interested</td>\n",
       "      <td>2020-08-23 12:25:58</td>\n",
       "      <td>studying</td>\n",
       "      <td>30</td>\n",
       "    </tr>\n",
       "  </tbody>\n",
       "</table>\n",
       "</div>"
      ],
      "text/plain": [
       "                             Content ID                               User ID  \\\n",
       "1  97522e57-d9ab-4bd6-97bf-c24d952602d2  5d454588-283d-459d-915d-c48a2cb4c27f   \n",
       "2  97522e57-d9ab-4bd6-97bf-c24d952602d2  92b87fa5-f271-43e0-af66-84fac21052e6   \n",
       "3  97522e57-d9ab-4bd6-97bf-c24d952602d2  163daa38-8b77-48c9-9af6-37a6c1447ac2   \n",
       "4  97522e57-d9ab-4bd6-97bf-c24d952602d2  34e8add9-0206-47fd-a501-037b994650a2   \n",
       "5  97522e57-d9ab-4bd6-97bf-c24d952602d2  9b6d35f9-5e15-4cd0-a8d7-b1f3340e02c4   \n",
       "\n",
       "  Reaction Type            Datetime  Category  Sentiment_score  \n",
       "1       disgust 2020-11-07 09:43:50  studying                0  \n",
       "2       dislike 2021-06-17 12:22:51  studying               10  \n",
       "3        scared 2021-04-18 05:13:58  studying               15  \n",
       "4       disgust 2021-01-06 19:13:01  studying                0  \n",
       "5    interested 2020-08-23 12:25:58  studying               30  "
      ]
     },
     "execution_count": 782,
     "metadata": {},
     "output_type": "execute_result"
    }
   ],
   "source": [
    "sentiment_map = df_reactionTypes.set_index('Reaction Type')['Score']\n",
    "\n",
    "# Map Category to df_reactions\n",
    "df_reactions['Sentiment_score'] = df_reactions['Reaction Type'].map(sentiment_map)\n",
    "df_reactions.head()"
   ]
  },
  {
   "cell_type": "code",
   "execution_count": 783,
   "id": "61886dcb-f1d0-4886-a6b5-4d87274186fd",
   "metadata": {},
   "outputs": [
    {
     "data": {
      "text/html": [
       "<div>\n",
       "<style scoped>\n",
       "    .dataframe tbody tr th:only-of-type {\n",
       "        vertical-align: middle;\n",
       "    }\n",
       "\n",
       "    .dataframe tbody tr th {\n",
       "        vertical-align: top;\n",
       "    }\n",
       "\n",
       "    .dataframe thead th {\n",
       "        text-align: right;\n",
       "    }\n",
       "</style>\n",
       "<table border=\"1\" class=\"dataframe\">\n",
       "  <thead>\n",
       "    <tr style=\"text-align: right;\">\n",
       "      <th></th>\n",
       "      <th>Content ID</th>\n",
       "      <th>Sentiment_score</th>\n",
       "    </tr>\n",
       "  </thead>\n",
       "  <tbody>\n",
       "    <tr>\n",
       "      <th>0</th>\n",
       "      <td>004e820e-49c3-4ba2-9d02-62db0065410c</td>\n",
       "      <td>60.0</td>\n",
       "    </tr>\n",
       "    <tr>\n",
       "      <th>1</th>\n",
       "      <td>00d0cdf9-5919-4102-bf84-ebde253c3cd2</td>\n",
       "      <td>45.0</td>\n",
       "    </tr>\n",
       "    <tr>\n",
       "      <th>2</th>\n",
       "      <td>01396602-c759-4a17-90f0-8f9b3ca11b30</td>\n",
       "      <td>25.0</td>\n",
       "    </tr>\n",
       "    <tr>\n",
       "      <th>3</th>\n",
       "      <td>019b61f4-926c-438e-adaf-6119c5eab752</td>\n",
       "      <td>30.0</td>\n",
       "    </tr>\n",
       "    <tr>\n",
       "      <th>4</th>\n",
       "      <td>01ab84dd-6364-4236-abbb-3f237db77180</td>\n",
       "      <td>15.0</td>\n",
       "    </tr>\n",
       "    <tr>\n",
       "      <th>...</th>\n",
       "      <td>...</td>\n",
       "      <td>...</td>\n",
       "    </tr>\n",
       "    <tr>\n",
       "      <th>957</th>\n",
       "      <td>fdca8d15-966b-4825-8133-1fafc5c1f9fc</td>\n",
       "      <td>50.0</td>\n",
       "    </tr>\n",
       "    <tr>\n",
       "      <th>958</th>\n",
       "      <td>fe06b730-b1f8-4f55-af1a-52487d8f1ec6</td>\n",
       "      <td>45.0</td>\n",
       "    </tr>\n",
       "    <tr>\n",
       "      <th>959</th>\n",
       "      <td>fea8d77c-fd0b-4678-868f-fbae567642f3</td>\n",
       "      <td>60.0</td>\n",
       "    </tr>\n",
       "    <tr>\n",
       "      <th>960</th>\n",
       "      <td>fea9077f-2fe7-43bd-aaef-dc2619988d94</td>\n",
       "      <td>32.5</td>\n",
       "    </tr>\n",
       "    <tr>\n",
       "      <th>961</th>\n",
       "      <td>ff883828-a610-492d-8635-8a777eaad25f</td>\n",
       "      <td>35.0</td>\n",
       "    </tr>\n",
       "  </tbody>\n",
       "</table>\n",
       "<p>962 rows × 2 columns</p>\n",
       "</div>"
      ],
      "text/plain": [
       "                               Content ID  Sentiment_score\n",
       "0    004e820e-49c3-4ba2-9d02-62db0065410c             60.0\n",
       "1    00d0cdf9-5919-4102-bf84-ebde253c3cd2             45.0\n",
       "2    01396602-c759-4a17-90f0-8f9b3ca11b30             25.0\n",
       "3    019b61f4-926c-438e-adaf-6119c5eab752             30.0\n",
       "4    01ab84dd-6364-4236-abbb-3f237db77180             15.0\n",
       "..                                    ...              ...\n",
       "957  fdca8d15-966b-4825-8133-1fafc5c1f9fc             50.0\n",
       "958  fe06b730-b1f8-4f55-af1a-52487d8f1ec6             45.0\n",
       "959  fea8d77c-fd0b-4678-868f-fbae567642f3             60.0\n",
       "960  fea9077f-2fe7-43bd-aaef-dc2619988d94             32.5\n",
       "961  ff883828-a610-492d-8635-8a777eaad25f             35.0\n",
       "\n",
       "[962 rows x 2 columns]"
      ]
     },
     "execution_count": 783,
     "metadata": {},
     "output_type": "execute_result"
    }
   ],
   "source": [
    "df_reactions.groupby('Content ID')['Sentiment_score'].median().reset_index()"
   ]
  },
  {
   "cell_type": "code",
   "execution_count": 784,
   "id": "adf5c2f6-0a6e-46c0-9491-59c300a74213",
   "metadata": {},
   "outputs": [
    {
     "data": {
      "text/html": [
       "<div>\n",
       "<style scoped>\n",
       "    .dataframe tbody tr th:only-of-type {\n",
       "        vertical-align: middle;\n",
       "    }\n",
       "\n",
       "    .dataframe tbody tr th {\n",
       "        vertical-align: top;\n",
       "    }\n",
       "\n",
       "    .dataframe thead th {\n",
       "        text-align: right;\n",
       "    }\n",
       "</style>\n",
       "<table border=\"1\" class=\"dataframe\">\n",
       "  <thead>\n",
       "    <tr style=\"text-align: right;\">\n",
       "      <th></th>\n",
       "      <th>Content ID</th>\n",
       "      <th>Unique User Count</th>\n",
       "      <th>Unique Reaction Count</th>\n",
       "      <th>Mean Reaction Sentiment</th>\n",
       "      <th>Median Reaction Sentiment</th>\n",
       "    </tr>\n",
       "  </thead>\n",
       "  <tbody>\n",
       "    <tr>\n",
       "      <th>0</th>\n",
       "      <td>004e820e-49c3-4ba2-9d02-62db0065410c</td>\n",
       "      <td>1</td>\n",
       "      <td>1</td>\n",
       "      <td>60.000000</td>\n",
       "      <td>60</td>\n",
       "    </tr>\n",
       "    <tr>\n",
       "      <th>1</th>\n",
       "      <td>00d0cdf9-5919-4102-bf84-ebde253c3cd2</td>\n",
       "      <td>40</td>\n",
       "      <td>16</td>\n",
       "      <td>41.333333</td>\n",
       "      <td>45</td>\n",
       "    </tr>\n",
       "    <tr>\n",
       "      <th>2</th>\n",
       "      <td>01396602-c759-4a17-90f0-8f9b3ca11b30</td>\n",
       "      <td>35</td>\n",
       "      <td>14</td>\n",
       "      <td>29.333333</td>\n",
       "      <td>20</td>\n",
       "    </tr>\n",
       "    <tr>\n",
       "      <th>3</th>\n",
       "      <td>019b61f4-926c-438e-adaf-6119c5eab752</td>\n",
       "      <td>12</td>\n",
       "      <td>8</td>\n",
       "      <td>33.666667</td>\n",
       "      <td>30</td>\n",
       "    </tr>\n",
       "    <tr>\n",
       "      <th>4</th>\n",
       "      <td>01ab84dd-6364-4236-abbb-3f237db77180</td>\n",
       "      <td>1</td>\n",
       "      <td>1</td>\n",
       "      <td>15.000000</td>\n",
       "      <td>15</td>\n",
       "    </tr>\n",
       "  </tbody>\n",
       "</table>\n",
       "</div>"
      ],
      "text/plain": [
       "                             Content ID  Unique User Count  \\\n",
       "0  004e820e-49c3-4ba2-9d02-62db0065410c                  1   \n",
       "1  00d0cdf9-5919-4102-bf84-ebde253c3cd2                 40   \n",
       "2  01396602-c759-4a17-90f0-8f9b3ca11b30                 35   \n",
       "3  019b61f4-926c-438e-adaf-6119c5eab752                 12   \n",
       "4  01ab84dd-6364-4236-abbb-3f237db77180                  1   \n",
       "\n",
       "   Unique Reaction Count  Mean Reaction Sentiment  Median Reaction Sentiment  \n",
       "0                      1                60.000000                         60  \n",
       "1                     16                41.333333                         45  \n",
       "2                     14                29.333333                         20  \n",
       "3                      8                33.666667                         30  \n",
       "4                      1                15.000000                         15  "
      ]
     },
     "execution_count": 784,
     "metadata": {},
     "output_type": "execute_result"
    }
   ],
   "source": [
    "from functools import reduce\n",
    "# Calculate unique user counts\n",
    "unique_user_counts = df_reactions.groupby('Content ID')['User ID'].nunique().reset_index()\n",
    "unique_user_counts.columns = ['Content ID', 'Unique User Count']\n",
    "\n",
    "# Calculate unique reaction counts\n",
    "unique_reaction_counts = df_reactions.groupby('Content ID')['Reaction Type'].nunique().reset_index()\n",
    "unique_reaction_counts.columns = ['Content ID', 'Unique Reaction Count']\n",
    "\n",
    "unique_reaction_sentiment = df_reactions.groupby('Content ID')['Sentiment_score'].mean().reset_index()\n",
    "unique_reaction_sentiment.columns = ['Content ID', 'Mean Reaction Sentiment']\n",
    "\n",
    "def custom_median(series):\n",
    "    sorted_values = sorted(series)\n",
    "    n = len(sorted_values)\n",
    "    if n % 2 == 1:\n",
    "        return sorted_values[n // 2]  # Odd case: return the middle value\n",
    "    else:\n",
    "        return min(sorted_values[n // 2 - 1], sorted_values[n // 2])  # Even case: return the larger of the two middle values\n",
    "\n",
    "# Calculate median reaction sentiment\n",
    "median_reaction_sentiment = df_reactions.groupby('Content ID')['Sentiment_score'].agg(custom_median).reset_index()\n",
    "median_reaction_sentiment.columns = ['Content ID', 'Median Reaction Sentiment']\n",
    "\n",
    "# Merge both DataFrames on 'Content ID'\n",
    "df_unique_content_viewers = reduce(lambda left, right: pd.merge(left, right, on='Content ID', how='left'),\n",
    "                                    [unique_user_counts, unique_reaction_counts, unique_reaction_sentiment,median_reaction_sentiment])\n",
    "df_unique_content_viewers.head()"
   ]
  },
  {
   "cell_type": "code",
   "execution_count": 785,
   "id": "3611c573-4b4b-4695-8017-3a406c54a2bf",
   "metadata": {},
   "outputs": [
    {
     "data": {
      "text/plain": [
       "{60: 'positive',\n",
       " 70: 'positive',\n",
       " 0: 'negative',\n",
       " 5: 'negative',\n",
       " 30: 'positive',\n",
       " 20: 'neutral',\n",
       " 65: 'positive',\n",
       " 75: 'positive',\n",
       " 72: 'positive',\n",
       " 50: 'positive',\n",
       " 10: 'negative',\n",
       " 45: 'positive',\n",
       " 35: 'neutral',\n",
       " 15: 'negative',\n",
       " 12: 'negative'}"
      ]
     },
     "execution_count": 785,
     "metadata": {},
     "output_type": "execute_result"
    }
   ],
   "source": [
    "reaction_map = df_reactionTypes.set_index('Score')['Sentiment']\n",
    "reaction_map.to_dict()"
   ]
  },
  {
   "cell_type": "code",
   "execution_count": 786,
   "id": "4c18bf27-d207-490d-8599-ba7029837c5f",
   "metadata": {},
   "outputs": [
    {
     "data": {
      "text/html": [
       "<div>\n",
       "<style scoped>\n",
       "    .dataframe tbody tr th:only-of-type {\n",
       "        vertical-align: middle;\n",
       "    }\n",
       "\n",
       "    .dataframe tbody tr th {\n",
       "        vertical-align: top;\n",
       "    }\n",
       "\n",
       "    .dataframe thead th {\n",
       "        text-align: right;\n",
       "    }\n",
       "</style>\n",
       "<table border=\"1\" class=\"dataframe\">\n",
       "  <thead>\n",
       "    <tr style=\"text-align: right;\">\n",
       "      <th></th>\n",
       "      <th>Content ID</th>\n",
       "      <th>Unique User Count</th>\n",
       "      <th>Unique Reaction Count</th>\n",
       "      <th>Mean Reaction Sentiment</th>\n",
       "      <th>Median Reaction Sentiment</th>\n",
       "      <th>Overall Sentiment</th>\n",
       "    </tr>\n",
       "  </thead>\n",
       "  <tbody>\n",
       "    <tr>\n",
       "      <th>0</th>\n",
       "      <td>004e820e-49c3-4ba2-9d02-62db0065410c</td>\n",
       "      <td>1</td>\n",
       "      <td>1</td>\n",
       "      <td>60.000000</td>\n",
       "      <td>60</td>\n",
       "      <td>positive</td>\n",
       "    </tr>\n",
       "    <tr>\n",
       "      <th>1</th>\n",
       "      <td>00d0cdf9-5919-4102-bf84-ebde253c3cd2</td>\n",
       "      <td>40</td>\n",
       "      <td>16</td>\n",
       "      <td>41.333333</td>\n",
       "      <td>45</td>\n",
       "      <td>positive</td>\n",
       "    </tr>\n",
       "    <tr>\n",
       "      <th>2</th>\n",
       "      <td>01396602-c759-4a17-90f0-8f9b3ca11b30</td>\n",
       "      <td>35</td>\n",
       "      <td>14</td>\n",
       "      <td>29.333333</td>\n",
       "      <td>20</td>\n",
       "      <td>neutral</td>\n",
       "    </tr>\n",
       "    <tr>\n",
       "      <th>3</th>\n",
       "      <td>019b61f4-926c-438e-adaf-6119c5eab752</td>\n",
       "      <td>12</td>\n",
       "      <td>8</td>\n",
       "      <td>33.666667</td>\n",
       "      <td>30</td>\n",
       "      <td>positive</td>\n",
       "    </tr>\n",
       "    <tr>\n",
       "      <th>4</th>\n",
       "      <td>01ab84dd-6364-4236-abbb-3f237db77180</td>\n",
       "      <td>1</td>\n",
       "      <td>1</td>\n",
       "      <td>15.000000</td>\n",
       "      <td>15</td>\n",
       "      <td>negative</td>\n",
       "    </tr>\n",
       "  </tbody>\n",
       "</table>\n",
       "</div>"
      ],
      "text/plain": [
       "                             Content ID  Unique User Count  \\\n",
       "0  004e820e-49c3-4ba2-9d02-62db0065410c                  1   \n",
       "1  00d0cdf9-5919-4102-bf84-ebde253c3cd2                 40   \n",
       "2  01396602-c759-4a17-90f0-8f9b3ca11b30                 35   \n",
       "3  019b61f4-926c-438e-adaf-6119c5eab752                 12   \n",
       "4  01ab84dd-6364-4236-abbb-3f237db77180                  1   \n",
       "\n",
       "   Unique Reaction Count  Mean Reaction Sentiment  Median Reaction Sentiment  \\\n",
       "0                      1                60.000000                         60   \n",
       "1                     16                41.333333                         45   \n",
       "2                     14                29.333333                         20   \n",
       "3                      8                33.666667                         30   \n",
       "4                      1                15.000000                         15   \n",
       "\n",
       "  Overall Sentiment  \n",
       "0          positive  \n",
       "1          positive  \n",
       "2           neutral  \n",
       "3          positive  \n",
       "4          negative  "
      ]
     },
     "execution_count": 786,
     "metadata": {},
     "output_type": "execute_result"
    }
   ],
   "source": [
    "# Create a function to map sentiment scores to sentiment names\n",
    "def map_sentiment(score):\n",
    "    for sentiment_score, sentiment_name in reaction_map.items():\n",
    "        if score == sentiment_score:\n",
    "            return sentiment_name\n",
    "\n",
    "# Apply the function to the 'Median Reaction Sentiment' column\n",
    "df_unique_content_viewers['Overall Sentiment'] = df_unique_content_viewers['Median Reaction Sentiment'].apply(map_sentiment)\n",
    "df_unique_content_viewers.head()"
   ]
  },
  {
   "cell_type": "code",
   "execution_count": 787,
   "id": "562de0c1-64b9-4385-b970-ccbd3ef6068b",
   "metadata": {},
   "outputs": [
    {
     "data": {
      "text/plain": [
       "Overall Sentiment\n",
       "positive    585\n",
       "neutral     318\n",
       "negative     59\n",
       "Name: count, dtype: int64"
      ]
     },
     "execution_count": 787,
     "metadata": {},
     "output_type": "execute_result"
    }
   ],
   "source": [
    "df_unique_content_viewers['Overall Sentiment'].value_counts()"
   ]
  },
  {
   "cell_type": "code",
   "execution_count": 788,
   "id": "1332a690-e8d9-42ed-857c-5e873e0ec792",
   "metadata": {},
   "outputs": [
    {
     "data": {
      "text/html": [
       "<div>\n",
       "<style scoped>\n",
       "    .dataframe tbody tr th:only-of-type {\n",
       "        vertical-align: middle;\n",
       "    }\n",
       "\n",
       "    .dataframe tbody tr th {\n",
       "        vertical-align: top;\n",
       "    }\n",
       "\n",
       "    .dataframe thead th {\n",
       "        text-align: right;\n",
       "    }\n",
       "</style>\n",
       "<table border=\"1\" class=\"dataframe\">\n",
       "  <thead>\n",
       "    <tr style=\"text-align: right;\">\n",
       "      <th></th>\n",
       "      <th>Content ID</th>\n",
       "      <th>Unique User Count</th>\n",
       "      <th>Unique Reaction Count</th>\n",
       "      <th>Mean Reaction Sentiment</th>\n",
       "      <th>Median Reaction Sentiment</th>\n",
       "      <th>Overall Sentiment</th>\n",
       "      <th>Category</th>\n",
       "    </tr>\n",
       "  </thead>\n",
       "  <tbody>\n",
       "    <tr>\n",
       "      <th>0</th>\n",
       "      <td>004e820e-49c3-4ba2-9d02-62db0065410c</td>\n",
       "      <td>1</td>\n",
       "      <td>1</td>\n",
       "      <td>60.000000</td>\n",
       "      <td>60</td>\n",
       "      <td>positive</td>\n",
       "      <td>tennis</td>\n",
       "    </tr>\n",
       "    <tr>\n",
       "      <th>1</th>\n",
       "      <td>00d0cdf9-5919-4102-bf84-ebde253c3cd2</td>\n",
       "      <td>40</td>\n",
       "      <td>16</td>\n",
       "      <td>41.333333</td>\n",
       "      <td>45</td>\n",
       "      <td>positive</td>\n",
       "      <td>healthy eating</td>\n",
       "    </tr>\n",
       "    <tr>\n",
       "      <th>2</th>\n",
       "      <td>01396602-c759-4a17-90f0-8f9b3ca11b30</td>\n",
       "      <td>35</td>\n",
       "      <td>14</td>\n",
       "      <td>29.333333</td>\n",
       "      <td>20</td>\n",
       "      <td>neutral</td>\n",
       "      <td>tennis</td>\n",
       "    </tr>\n",
       "    <tr>\n",
       "      <th>3</th>\n",
       "      <td>019b61f4-926c-438e-adaf-6119c5eab752</td>\n",
       "      <td>12</td>\n",
       "      <td>8</td>\n",
       "      <td>33.666667</td>\n",
       "      <td>30</td>\n",
       "      <td>positive</td>\n",
       "      <td>NaN</td>\n",
       "    </tr>\n",
       "    <tr>\n",
       "      <th>4</th>\n",
       "      <td>01ab84dd-6364-4236-abbb-3f237db77180</td>\n",
       "      <td>1</td>\n",
       "      <td>1</td>\n",
       "      <td>15.000000</td>\n",
       "      <td>15</td>\n",
       "      <td>negative</td>\n",
       "      <td>food</td>\n",
       "    </tr>\n",
       "  </tbody>\n",
       "</table>\n",
       "</div>"
      ],
      "text/plain": [
       "                             Content ID  Unique User Count  \\\n",
       "0  004e820e-49c3-4ba2-9d02-62db0065410c                  1   \n",
       "1  00d0cdf9-5919-4102-bf84-ebde253c3cd2                 40   \n",
       "2  01396602-c759-4a17-90f0-8f9b3ca11b30                 35   \n",
       "3  019b61f4-926c-438e-adaf-6119c5eab752                 12   \n",
       "4  01ab84dd-6364-4236-abbb-3f237db77180                  1   \n",
       "\n",
       "   Unique Reaction Count  Mean Reaction Sentiment  Median Reaction Sentiment  \\\n",
       "0                      1                60.000000                         60   \n",
       "1                     16                41.333333                         45   \n",
       "2                     14                29.333333                         20   \n",
       "3                      8                33.666667                         30   \n",
       "4                      1                15.000000                         15   \n",
       "\n",
       "  Overall Sentiment        Category  \n",
       "0          positive          tennis  \n",
       "1          positive  healthy eating  \n",
       "2           neutral          tennis  \n",
       "3          positive             NaN  \n",
       "4          negative            food  "
      ]
     },
     "execution_count": 788,
     "metadata": {},
     "output_type": "execute_result"
    }
   ],
   "source": [
    "df_unique_content_viewers['Category'] = df_unique_content_viewers['Content ID'].map(content_map)\n",
    "df_unique_content_viewers.head()"
   ]
  },
  {
   "cell_type": "code",
   "execution_count": 789,
   "id": "9a52b610-ab2d-4a3a-bc03-f66c2392d236",
   "metadata": {},
   "outputs": [
    {
     "data": {
      "text/plain": [
       "Content ID                     0\n",
       "Unique User Count              0\n",
       "Unique Reaction Count          0\n",
       "Mean Reaction Sentiment        0\n",
       "Median Reaction Sentiment      0\n",
       "Overall Sentiment              0\n",
       "Category                     190\n",
       "dtype: int64"
      ]
     },
     "execution_count": 789,
     "metadata": {},
     "output_type": "execute_result"
    }
   ],
   "source": [
    "df_unique_content_viewers.isna().sum()"
   ]
  },
  {
   "cell_type": "code",
   "execution_count": 790,
   "id": "cbd8ab20-afc7-4ad9-a79f-317a143e5495",
   "metadata": {},
   "outputs": [
    {
     "data": {
      "text/plain": [
       "Content ID                   0\n",
       "Unique User Count            0\n",
       "Unique Reaction Count        0\n",
       "Mean Reaction Sentiment      0\n",
       "Median Reaction Sentiment    0\n",
       "Overall Sentiment            0\n",
       "Category                     0\n",
       "dtype: int64"
      ]
     },
     "execution_count": 790,
     "metadata": {},
     "output_type": "execute_result"
    }
   ],
   "source": [
    "df_unique_content_viewers['Category'] = df_unique_content_viewers['Category'].fillna('miscellaneous')\n",
    "df_unique_content_viewers.isna().sum()"
   ]
  },
  {
   "cell_type": "code",
   "execution_count": 791,
   "id": "9cbbfe8b-5c56-4200-aec3-38a7e47b29dc",
   "metadata": {},
   "outputs": [
    {
     "name": "stdout",
     "output_type": "stream",
     "text": [
      "224\n"
     ]
    }
   ],
   "source": [
    "df_unique_content_viewers['Sentiment Difference'] = abs(df_unique_content_viewers['Mean Reaction Sentiment'] - df_unique_content_viewers['Median Reaction Sentiment'])\n",
    "\n",
    "# Filter Content IDs where the difference is greater than 5\n",
    "high_difference_content_ids = df_unique_content_viewers[df_unique_content_viewers['Sentiment Difference'] > 10]['Content ID']\n",
    "\n",
    "# Display the result\n",
    "print(len(high_difference_content_ids))"
   ]
  },
  {
   "cell_type": "code",
   "execution_count": 792,
   "id": "987f17b3-aeea-4bc3-bee0-ec8206572db2",
   "metadata": {},
   "outputs": [
    {
     "data": {
      "text/html": [
       "<div>\n",
       "<style scoped>\n",
       "    .dataframe tbody tr th:only-of-type {\n",
       "        vertical-align: middle;\n",
       "    }\n",
       "\n",
       "    .dataframe tbody tr th {\n",
       "        vertical-align: top;\n",
       "    }\n",
       "\n",
       "    .dataframe thead th {\n",
       "        text-align: right;\n",
       "    }\n",
       "</style>\n",
       "<table border=\"1\" class=\"dataframe\">\n",
       "  <thead>\n",
       "    <tr style=\"text-align: right;\">\n",
       "      <th></th>\n",
       "      <th>Content ID</th>\n",
       "      <th>Unique User Count</th>\n",
       "      <th>Unique Reaction Count</th>\n",
       "      <th>Mean Reaction Sentiment</th>\n",
       "      <th>Median Reaction Sentiment</th>\n",
       "      <th>Overall Sentiment</th>\n",
       "      <th>Category</th>\n",
       "      <th>Sentiment Difference</th>\n",
       "    </tr>\n",
       "  </thead>\n",
       "  <tbody>\n",
       "    <tr>\n",
       "      <th>18</th>\n",
       "      <td>0411a1da-97e1-44b6-945d-06b4682ba802</td>\n",
       "      <td>28</td>\n",
       "      <td>13</td>\n",
       "      <td>47.321429</td>\n",
       "      <td>60</td>\n",
       "      <td>positive</td>\n",
       "      <td>technology</td>\n",
       "      <td>12.678571</td>\n",
       "    </tr>\n",
       "    <tr>\n",
       "      <th>29</th>\n",
       "      <td>072fb6c2-1505-408a-a35d-f0c4ffaf2696</td>\n",
       "      <td>4</td>\n",
       "      <td>3</td>\n",
       "      <td>51.250000</td>\n",
       "      <td>65</td>\n",
       "      <td>positive</td>\n",
       "      <td>fitness</td>\n",
       "      <td>13.750000</td>\n",
       "    </tr>\n",
       "    <tr>\n",
       "      <th>33</th>\n",
       "      <td>09bb0893-a05b-49bc-95ec-1e158577bf13</td>\n",
       "      <td>24</td>\n",
       "      <td>12</td>\n",
       "      <td>49.346154</td>\n",
       "      <td>60</td>\n",
       "      <td>positive</td>\n",
       "      <td>healthy eating</td>\n",
       "      <td>10.653846</td>\n",
       "    </tr>\n",
       "    <tr>\n",
       "      <th>38</th>\n",
       "      <td>0adb9a94-210a-4e84-bca1-13db9452ff0e</td>\n",
       "      <td>23</td>\n",
       "      <td>10</td>\n",
       "      <td>46.478261</td>\n",
       "      <td>60</td>\n",
       "      <td>positive</td>\n",
       "      <td>miscellaneous</td>\n",
       "      <td>13.521739</td>\n",
       "    </tr>\n",
       "    <tr>\n",
       "      <th>39</th>\n",
       "      <td>0be329af-19d6-4a34-8bc1-f4391e9877dd</td>\n",
       "      <td>4</td>\n",
       "      <td>4</td>\n",
       "      <td>33.750000</td>\n",
       "      <td>20</td>\n",
       "      <td>neutral</td>\n",
       "      <td>dogs</td>\n",
       "      <td>13.750000</td>\n",
       "    </tr>\n",
       "  </tbody>\n",
       "</table>\n",
       "</div>"
      ],
      "text/plain": [
       "                              Content ID  Unique User Count  \\\n",
       "18  0411a1da-97e1-44b6-945d-06b4682ba802                 28   \n",
       "29  072fb6c2-1505-408a-a35d-f0c4ffaf2696                  4   \n",
       "33  09bb0893-a05b-49bc-95ec-1e158577bf13                 24   \n",
       "38  0adb9a94-210a-4e84-bca1-13db9452ff0e                 23   \n",
       "39  0be329af-19d6-4a34-8bc1-f4391e9877dd                  4   \n",
       "\n",
       "    Unique Reaction Count  Mean Reaction Sentiment  Median Reaction Sentiment  \\\n",
       "18                     13                47.321429                         60   \n",
       "29                      3                51.250000                         65   \n",
       "33                     12                49.346154                         60   \n",
       "38                     10                46.478261                         60   \n",
       "39                      4                33.750000                         20   \n",
       "\n",
       "   Overall Sentiment        Category  Sentiment Difference  \n",
       "18          positive      technology             12.678571  \n",
       "29          positive         fitness             13.750000  \n",
       "33          positive  healthy eating             10.653846  \n",
       "38          positive   miscellaneous             13.521739  \n",
       "39           neutral            dogs             13.750000  "
      ]
     },
     "execution_count": 792,
     "metadata": {},
     "output_type": "execute_result"
    }
   ],
   "source": [
    "# Filter Content IDs where the difference is greater than 10\n",
    "df_high_difference = df_unique_content_viewers[df_unique_content_viewers['Sentiment Difference'] > 10].copy()\n",
    "\n",
    "# Display the result\n",
    "df_high_difference.head()"
   ]
  },
  {
   "cell_type": "markdown",
   "id": "c6b9a23a-a3ad-48b1-86dd-c0d3924c859e",
   "metadata": {},
   "source": [
    "## Required merged df"
   ]
  },
  {
   "cell_type": "code",
   "execution_count": 793,
   "id": "c36e5daf-b26a-4dc1-aa86-ebe8fbeef08e",
   "metadata": {},
   "outputs": [],
   "source": [
    "df_unique_content_viewers.to_csv('df_unique_content_viewers.csv', index=False)"
   ]
  },
  {
   "cell_type": "code",
   "execution_count": 794,
   "id": "167c1f4e-7dfb-4683-8e3a-4e6e309e579a",
   "metadata": {},
   "outputs": [],
   "source": [
    "df_reactions.to_csv('df_reactions_with_datetime.csv',index = False)"
   ]
  }
 ],
 "metadata": {
  "kernelspec": {
   "display_name": "Python 3 (ipykernel)",
   "language": "python",
   "name": "python3"
  },
  "language_info": {
   "codemirror_mode": {
    "name": "ipython",
    "version": 3
   },
   "file_extension": ".py",
   "mimetype": "text/x-python",
   "name": "python",
   "nbconvert_exporter": "python",
   "pygments_lexer": "ipython3",
   "version": "3.11.4"
  }
 },
 "nbformat": 4,
 "nbformat_minor": 5
}
